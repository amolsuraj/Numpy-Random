{
 "cells": [
  {
   "cell_type": "markdown",
   "metadata": {},
   "source": [
    "# Random Numbers in NumPy:"
   ]
  },
  {
   "cell_type": "code",
   "execution_count": 2,
   "metadata": {},
   "outputs": [
    {
     "name": "stdout",
     "output_type": "stream",
     "text": [
      "98\n"
     ]
    }
   ],
   "source": [
    "# What is a Random Number?\n",
    "\n",
    "# Random number does NOT mean a different number every time. Random means something that can not be predicted logically.\n",
    "# Pseudo Random and True Random.\n",
    "\n",
    "# Computers work on programs, and programs are definitive set of instructions. So it means there must be some algorithm to generate a random number as well.\n",
    "\n",
    "# If there is a program to generate random number it can be predicted, thus it is not truly random.\n",
    "\n",
    "# Random numbers generated through a generation algorithm are called pseudo random.\n",
    "\n",
    "# Can we make truly random numbers?\n",
    "\n",
    "# Yes. In order to generate a truly random number on our computers we need to get the random data from some outside source. This outside source is generally our keystrokes, mouse movements, data on network etc.\n",
    "\n",
    "# We do not need truly random numbers, unless its related to security (e.g. encryption keys) or the basis of application is the randomness (e.g. Digital roulette wheels).\n",
    "\n",
    "# In this tutorial we will be using pseudo random numbers.\n",
    "# Generate Random Number\n",
    "\n",
    "# NumPy offers the random module to work with random numbers.\n",
    "# Example\n",
    "\n",
    "# Generate a random integer from 0 to 100:\n",
    "\n",
    "from numpy import random\n",
    "\n",
    "x = random.randint(100)\n",
    "\n",
    "print(x) "
   ]
  },
  {
   "cell_type": "code",
   "execution_count": 3,
   "metadata": {},
   "outputs": [
    {
     "name": "stdout",
     "output_type": "stream",
     "text": [
      "0.18622962866086368\n"
     ]
    }
   ],
   "source": [
    "# Generate Random Float\n",
    "\n",
    "# The random module's rand() method returns a random float between 0 and 1.\n",
    "# Example\n",
    "\n",
    "# Generate a random float from 0 to 1:\n",
    "\n",
    "from numpy import random\n",
    "\n",
    "x = random.rand()\n",
    "\n",
    "print(x) "
   ]
  },
  {
   "cell_type": "code",
   "execution_count": 4,
   "metadata": {},
   "outputs": [
    {
     "name": "stdout",
     "output_type": "stream",
     "text": [
      "[65 25 70 41 93]\n"
     ]
    }
   ],
   "source": [
    "# Generate Random Array\n",
    "\n",
    "# In NumPy we work with arrays, and you can use the two methods from the above examples to make random arrays.\n",
    "# Integers\n",
    "\n",
    "# The randint() method takes a size parameter where you can specify the shape of an array.\n",
    "# Example\n",
    "\n",
    "# Generate a 1-D array containing 5 random integers from 0 to 100:\n",
    "\n",
    "from numpy import random\n",
    "\n",
    "x=random.randint(100, size=(5))\n",
    "\n",
    "print(x) "
   ]
  },
  {
   "cell_type": "code",
   "execution_count": 5,
   "metadata": {},
   "outputs": [
    {
     "name": "stdout",
     "output_type": "stream",
     "text": [
      "[[56 93  0 77 17]\n",
      " [86 22  8 88 73]\n",
      " [97 73 12 47 44]]\n"
     ]
    }
   ],
   "source": [
    "# Example\n",
    "\n",
    "# Generate a 2-D array with 3 rows, each row containing 5 random integers from 0 to 100:\n",
    "\n",
    "from numpy import random\n",
    "\n",
    "x = random.randint(100, size=(3, 5))\n",
    "\n",
    "print(x) "
   ]
  },
  {
   "cell_type": "code",
   "execution_count": 6,
   "metadata": {},
   "outputs": [
    {
     "name": "stdout",
     "output_type": "stream",
     "text": [
      "[0.3370327  0.89869744 0.91330266 0.83272562 0.1080768 ]\n"
     ]
    }
   ],
   "source": [
    "# Floats\n",
    "\n",
    "# The rand() method also allows you to specify the shape of the array.\n",
    "# Example\n",
    "\n",
    "# Generate a 1-D array containing 5 random floats:\n",
    "    \n",
    "from numpy import random\n",
    "\n",
    "x = random.rand(5)\n",
    "\n",
    "print(x) "
   ]
  },
  {
   "cell_type": "code",
   "execution_count": 7,
   "metadata": {},
   "outputs": [
    {
     "name": "stdout",
     "output_type": "stream",
     "text": [
      "[[0.70277399 0.18397948 0.05524981 0.72043557 0.99780411]\n",
      " [0.75497814 0.03387197 0.32318361 0.72434247 0.74139397]\n",
      " [0.81407871 0.67473459 0.47221329 0.2490422  0.80867647]]\n"
     ]
    }
   ],
   "source": [
    "# Example\n",
    "\n",
    "# Generate a 2-D array with 3 rows, each row containing 5 random numbers:\n",
    "\n",
    "from numpy import random\n",
    "\n",
    "x = random.rand(3, 5)\n",
    "\n",
    "print(x) "
   ]
  },
  {
   "cell_type": "code",
   "execution_count": 8,
   "metadata": {},
   "outputs": [
    {
     "name": "stdout",
     "output_type": "stream",
     "text": [
      "7\n"
     ]
    }
   ],
   "source": [
    "# Generate Random Number From Array\n",
    "\n",
    "# The choice() method allows you to generate a random value based on an array of values.\n",
    "\n",
    "# The choice() method takes an array as a parameter and randomly returns one of the values.\n",
    "# Example\n",
    "\n",
    "# Return one of the values in an array:\n",
    "\n",
    "from numpy import random\n",
    "\n",
    "x = random.choice([3, 5, 7, 9])\n",
    "\n",
    "print(x) "
   ]
  },
  {
   "cell_type": "code",
   "execution_count": 10,
   "metadata": {},
   "outputs": [
    {
     "name": "stdout",
     "output_type": "stream",
     "text": [
      "[[5 9 5 3 5]\n",
      " [9 7 5 7 9]\n",
      " [7 5 9 7 7]]\n"
     ]
    }
   ],
   "source": [
    "# The choice() method also allows you to return an array of values.\n",
    "\n",
    "# Add a size parameter to specify the shape of the array.\n",
    "\n",
    "# Example\n",
    "\n",
    "# Generate a 2-D array that consists of the values in the array parameter (3, 5, 7, and 9):\n",
    "\n",
    "from numpy import random\n",
    "\n",
    "x = random.choice([3, 5, 7, 9], size=(3, 5))\n",
    "\n",
    "print(x) "
   ]
  },
  {
   "cell_type": "markdown",
   "metadata": {},
   "source": [
    "## Random Data Distribution:"
   ]
  },
  {
   "cell_type": "code",
   "execution_count": 13,
   "metadata": {},
   "outputs": [
    {
     "name": "stdout",
     "output_type": "stream",
     "text": [
      "[3 7 5 7 7 5 5 5 5 7 7 5 7 7 7 7 7 7 7 7 7 5 5 5 7 7 5 5 3 3 5 7 7 5 7 3 7\n",
      " 5 7 5 3 5 5 7 7 7 7 3 5 5 5 7 7 5 5 3 7 3 7 7 7 3 5 7 3 7 7 5 3 7 5 5 7 5\n",
      " 7 7 7 7 7 7 7 5 7 7 5 7 7 7 5 7 7 7 5 7 7 7 3 7 3 5]\n"
     ]
    }
   ],
   "source": [
    "# What is Data Distribution?\n",
    "\n",
    "# Data Distribution is a list of all possible values, and how often each value occurs.\n",
    "\n",
    "# Such lists are important when working with statistics and data science.\n",
    "\n",
    "# The random module offer methods that returns randomly generated data distributions.\n",
    "# Random Distribution\n",
    "\n",
    "# A random distribution is a set of random numbers that follow a certain probability density function.\n",
    "\n",
    "# Probability Density Function: A function that describes a continuous probability. i.e. probability of all values in an array.\n",
    "\n",
    "# We can generate random numbers based on defined probabilities using the choice() method of the random module.\n",
    "\n",
    "# The choice() method allows us to specify the probability for each value.\n",
    "\n",
    "# The probability is set by a number between 0 and 1, where 0 means that the value will never occur and 1 means that the value will always occur.\n",
    "# Example\n",
    "\n",
    "# Generate a 1-D array containing 100 values, where each value has to be 3, 5, 7 or 9.\n",
    "\n",
    "# The probability for the value to be 3 is set to be 0.1\n",
    "\n",
    "# The probability for the value to be 5 is set to be 0.3\n",
    "\n",
    "# The probability for the value to be 7 is set to be 0.6\n",
    "\n",
    "# The probability for the value to be 9 is set to be 0\n",
    "\n",
    "from numpy import random\n",
    "\n",
    "x = random.choice([3, 5, 7, 9], p=[0.1, 0.3, 0.6, 0.0], size=(100))\n",
    "\n",
    "print(x) "
   ]
  },
  {
   "cell_type": "code",
   "execution_count": 14,
   "metadata": {},
   "outputs": [],
   "source": [
    "\n",
    "# The sum of all probability numbers should be 1.\n",
    "\n",
    "# Even if you run the example above 100 times, the value 9 will never occur.\n",
    "\n",
    "# You can return arrays of any shape and size by specifying the shape in the size parameter."
   ]
  },
  {
   "cell_type": "code",
   "execution_count": 15,
   "metadata": {},
   "outputs": [
    {
     "name": "stdout",
     "output_type": "stream",
     "text": [
      "[[7 7 7 5 7]\n",
      " [7 7 5 7 7]\n",
      " [7 5 7 7 5]]\n"
     ]
    }
   ],
   "source": [
    "# Example\n",
    "\n",
    "# Same example as above, but return a 2-D array with 3 rows, each containing 5 values.\n",
    "\n",
    "from numpy import random\n",
    "\n",
    "x = random.choice([3, 5, 7, 9], p=[0.1, 0.3, 0.6, 0.0], size=(3, 5))\n",
    "\n",
    "print(x) "
   ]
  },
  {
   "cell_type": "markdown",
   "metadata": {},
   "source": [
    "## Random Permutations"
   ]
  },
  {
   "cell_type": "code",
   "execution_count": 16,
   "metadata": {},
   "outputs": [
    {
     "name": "stdout",
     "output_type": "stream",
     "text": [
      "[3 1 2 5 4]\n"
     ]
    }
   ],
   "source": [
    "# Random Permutations of Elements\n",
    "\n",
    "# A permutation refers to an arrangement of elements. e.g. [3, 2, 1] is a permutation of \n",
    "# [1, 2, 3] and vice-versa.\n",
    "\n",
    "# The NumPy Random module provides two methods for this: shuffle() and permutation().\n",
    "\n",
    "# Shuffling Arrays\n",
    "\n",
    "# Shuffle means changing arrangement of elements in-place. i.e. in the array itself.\n",
    "# Example\n",
    "\n",
    "# Randomly shuffle elements of following array:\n",
    "    \n",
    "from numpy import random\n",
    "import numpy as np\n",
    "\n",
    "arr = np.array([1, 2, 3, 4, 5])\n",
    "\n",
    "random.shuffle(arr)\n",
    "\n",
    "print(arr) "
   ]
  },
  {
   "cell_type": "code",
   "execution_count": 17,
   "metadata": {},
   "outputs": [],
   "source": [
    "# The shuffle() method makes changes to the original array."
   ]
  },
  {
   "cell_type": "code",
   "execution_count": 19,
   "metadata": {},
   "outputs": [
    {
     "name": "stdout",
     "output_type": "stream",
     "text": [
      "[3 1 4 2 5]\n"
     ]
    }
   ],
   "source": [
    "# Generating Permutation of Arrays\n",
    "# Example\n",
    "\n",
    "# Generate a random permutation of elements of following array:\n",
    "    \n",
    "from numpy import random\n",
    "import numpy as np\n",
    "\n",
    "arr = np.array([1, 2, 3, 4, 5])\n",
    "\n",
    "print(random.permutation(arr)) "
   ]
  },
  {
   "cell_type": "code",
   "execution_count": 21,
   "metadata": {},
   "outputs": [],
   "source": [
    "# The permutation() method returns a re-arranged array (and leaves the original array\n",
    "#                                                       un-changed)."
   ]
  },
  {
   "cell_type": "markdown",
   "metadata": {},
   "source": [
    "## Seaborn:"
   ]
  },
  {
   "cell_type": "code",
   "execution_count": 22,
   "metadata": {},
   "outputs": [],
   "source": [
    "# Visualize Distributions With Seaborn\n",
    "\n",
    "# Seaborn is a library that uses Matplotlib underneath to plot graphs. \n",
    "# It will be used to visualize random distributions."
   ]
  },
  {
   "cell_type": "code",
   "execution_count": 24,
   "metadata": {},
   "outputs": [
    {
     "name": "stdout",
     "output_type": "stream",
     "text": [
      "Requirement already satisfied: seaborn in c:\\programdata\\anaconda3\\lib\\site-packages (0.10.0)\n",
      "Requirement already satisfied: matplotlib>=2.1.2 in c:\\programdata\\anaconda3\\lib\\site-packages (from seaborn) (3.1.3)\n",
      "Requirement already satisfied: scipy>=1.0.1 in c:\\programdata\\anaconda3\\lib\\site-packages (from seaborn) (1.4.1)\n",
      "Requirement already satisfied: numpy>=1.13.3 in c:\\programdata\\anaconda3\\lib\\site-packages (from seaborn) (1.18.1)\n",
      "Requirement already satisfied: pandas>=0.22.0 in c:\\programdata\\anaconda3\\lib\\site-packages (from seaborn) (1.0.1)\n",
      "Requirement already satisfied: python-dateutil>=2.1 in c:\\programdata\\anaconda3\\lib\\site-packages (from matplotlib>=2.1.2->seaborn) (2.8.1)\n",
      "Requirement already satisfied: pyparsing!=2.0.4,!=2.1.2,!=2.1.6,>=2.0.1 in c:\\programdata\\anaconda3\\lib\\site-packages (from matplotlib>=2.1.2->seaborn) (2.4.6)\n",
      "Requirement already satisfied: cycler>=0.10 in c:\\programdata\\anaconda3\\lib\\site-packages (from matplotlib>=2.1.2->seaborn) (0.10.0)\n",
      "Requirement already satisfied: kiwisolver>=1.0.1 in c:\\programdata\\anaconda3\\lib\\site-packages (from matplotlib>=2.1.2->seaborn) (1.1.0)\n",
      "Requirement already satisfied: pytz>=2017.2 in c:\\programdata\\anaconda3\\lib\\site-packages (from pandas>=0.22.0->seaborn) (2019.3)\n",
      "Requirement already satisfied: six>=1.5 in c:\\programdata\\anaconda3\\lib\\site-packages (from python-dateutil>=2.1->matplotlib>=2.1.2->seaborn) (1.14.0)\n",
      "Requirement already satisfied: setuptools in c:\\programdata\\anaconda3\\lib\\site-packages (from kiwisolver>=1.0.1->matplotlib>=2.1.2->seaborn) (45.2.0.post20200210)\n"
     ]
    }
   ],
   "source": [
    "# If you use Jupyter, install Seaborn using this command:\n",
    "!pip install seaborn"
   ]
  },
  {
   "cell_type": "code",
   "execution_count": 25,
   "metadata": {},
   "outputs": [
    {
     "data": {
      "image/png": "[encoded data removed]",
      "text/plain": [
       "<Figure size 432x288 with 1 Axes>"
      ]
     },
     "metadata": {
      "needs_background": "light"
     },
     "output_type": "display_data"
    }
   ],
   "source": [
    "# Distplots\n",
    "\n",
    "# Distplot stands for distribution plot, it takes as input an array and plots a \n",
    "# curve corresponding to the distribution of points in the array.\n",
    "# Import Matplotlib\n",
    "# Import the pyplot object of the Matplotlib module in your code using the following statement:\n",
    "# import matplotlib.pyplot as plt\n",
    "\n",
    "# Import Seaborn\n",
    "# Import the Seaborn module in your code using the following statement:\n",
    "# import seaborn as sns\n",
    "# Plotting a Displot\n",
    "# Example:\n",
    "\n",
    "import matplotlib.pyplot as plt\n",
    "import seaborn as sns\n",
    "\n",
    "sns.distplot([0, 1, 2, 3, 4, 5])\n",
    "\n",
    "plt.show() \n"
   ]
  },
  {
   "cell_type": "code",
   "execution_count": 26,
   "metadata": {},
   "outputs": [
    {
     "data": {
      "image/png": "[encoded data removed]",
      "text/plain": [
       "<Figure size 432x288 with 1 Axes>"
      ]
     },
     "metadata": {
      "needs_background": "light"
     },
     "output_type": "display_data"
    }
   ],
   "source": [
    "# Plotting a Distplot Without the Histogram\n",
    "# Example:\n",
    "\n",
    "import matplotlib.pyplot as plt\n",
    "import seaborn as sns\n",
    "\n",
    "sns.distplot([0, 1, 2, 3, 4, 5], hist=False)\n",
    "\n",
    "plt.show() "
   ]
  },
  {
   "cell_type": "code",
   "execution_count": 27,
   "metadata": {},
   "outputs": [],
   "source": [
    "# Note: We will be using: sns.distplot(arr, hist=False) to visualize random distributions \n",
    "#         in this tutorial."
   ]
  },
  {
   "cell_type": "code",
   "execution_count": 28,
   "metadata": {},
   "outputs": [
    {
     "name": "stdout",
     "output_type": "stream",
     "text": [
      "[[-1.71401544  0.68616361  0.21818916]\n",
      " [-0.1692756  -0.71506917 -0.68671346]]\n"
     ]
    }
   ],
   "source": [
    "# Normal Distribution\n",
    "\n",
    "# The Normal Distribution is one of the most important distributions.\n",
    "\n",
    "# It is also called the Gaussian Distribution after the German mathematician Carl Friedrich Gauss.\n",
    "\n",
    "# It fits the probability distribution of many events, eg. IQ Scores, Heartbeat etc.\n",
    "\n",
    "# Use the random.normal() method to get a Normal Data Distribution.\n",
    "\n",
    "# It has three parameters:\n",
    "\n",
    "# loc - (Mean) where the peak of the bell exists.\n",
    "\n",
    "# scale - (Standard Deviation) how flat the graph distribution should be.\n",
    "\n",
    "# size - The shape of the returned array.\n",
    "# Example\n",
    "\n",
    "# Generate a random normal distribution of size 2x3:\n",
    "\n",
    "from numpy import random\n",
    "\n",
    "x = random.normal(size=(2, 3))\n",
    "\n",
    "print(x) "
   ]
  },
  {
   "cell_type": "code",
   "execution_count": 29,
   "metadata": {},
   "outputs": [
    {
     "name": "stdout",
     "output_type": "stream",
     "text": [
      "[[ 3.14409582  2.62063662 -1.57231008]\n",
      " [ 0.80643231  2.39782378  0.611392  ]]\n"
     ]
    }
   ],
   "source": [
    "# Example\n",
    "\n",
    "# Generate a random normal distribution of size 2x3 with mean at 1 and \n",
    "# standard deviation of 2:\n",
    "    \n",
    "from numpy import random\n",
    "\n",
    "x = random.normal(loc=1, scale=2, size=(2, 3))\n",
    "\n",
    "print(x) "
   ]
  },
  {
   "cell_type": "code",
   "execution_count": 37,
   "metadata": {},
   "outputs": [
    {
     "data": {
      "image/png": "[encoded data removed]",
      "text/plain": [
       "<Figure size 432x288 with 1 Axes>"
      ]
     },
     "metadata": {
      "needs_background": "light"
     },
     "output_type": "display_data"
    }
   ],
   "source": [
    "# Visualization of Normal Distribution\n",
    "# Example:\n",
    "    \n",
    "from numpy import random\n",
    "import matplotlib.pyplot as plt\n",
    "import seaborn as sns\n",
    "\n",
    "sns.distplot(random.normal(size=1000), hist=False)\n",
    "\n",
    "plt.show() "
   ]
  },
  {
   "cell_type": "code",
   "execution_count": 38,
   "metadata": {},
   "outputs": [],
   "source": [
    "# Note: The curve of a Normal Distribution is also known as the Bell Curve because \n",
    "# of the bell-shaped curve."
   ]
  },
  {
   "cell_type": "markdown",
   "metadata": {},
   "source": [
    "## Binomial Distribution:"
   ]
  },
  {
   "cell_type": "code",
   "execution_count": 39,
   "metadata": {},
   "outputs": [
    {
     "name": "stdout",
     "output_type": "stream",
     "text": [
      "[6 5 6 7 2 2 6 7 3 7]\n"
     ]
    }
   ],
   "source": [
    "# Binomial Distribution\n",
    "\n",
    "# Binomial Distribution is a Discrete Distribution.\n",
    "\n",
    "# It describes the outcome of binary scenarios, e.g. toss of a coin, it will either be head or tails.\n",
    "\n",
    "# It has three parameters:\n",
    "\n",
    "# n - number of trials.\n",
    "\n",
    "# p - probability of occurence of each trial (e.g. for toss of a coin 0.5 each).\n",
    "\n",
    "# size - The shape of the returned array.\n",
    "\n",
    "\n",
    "# Discrete Distribution:The distribution is defined at separate set of events, e.g. a coin toss's result is discrete as it can be only head or tails whereas height of people is continuous as it can be 170, 170.1, 170.11 and so on.\n",
    "# Example\n",
    "\n",
    "# Given 10 trials for coin toss generate 10 data points:\n",
    "\n",
    "from numpy import random\n",
    "\n",
    "x = random.binomial(n=10, p=0.5, size=10)\n",
    "\n",
    "print(x) "
   ]
  },
  {
   "cell_type": "code",
   "execution_count": 40,
   "metadata": {},
   "outputs": [
    {
     "data": {
      "image/png": "[encoded data removed]",
      "text/plain": [
       "<Figure size 432x288 with 1 Axes>"
      ]
     },
     "metadata": {
      "needs_background": "light"
     },
     "output_type": "display_data"
    }
   ],
   "source": [
    "# Visualization of Binomial Distribution\n",
    "# Example:\n",
    "    \n",
    "from numpy import random\n",
    "import matplotlib.pyplot as plt\n",
    "import seaborn as sns\n",
    "\n",
    "sns.distplot(random.binomial(n=10, p=0.5, size=1000), hist=True, kde=False)\n",
    "\n",
    "plt.show() "
   ]
  },
  {
   "cell_type": "code",
   "execution_count": 41,
   "metadata": {},
   "outputs": [
    {
     "data": {
      "image/png": "[encoded data removed]",
      "text/plain": [
       "<Figure size 432x288 with 1 Axes>"
      ]
     },
     "metadata": {
      "needs_background": "light"
     },
     "output_type": "display_data"
    }
   ],
   "source": [
    "# Difference Between Normal and Binomial Distribution\n",
    "\n",
    "# The main difference is that normal distribution is continous whereas binomial is discrete,\n",
    "# but if there are enough data points it will be quite similar to normal distribution with \n",
    "# certain loc and scale.\n",
    "# Example:\n",
    "    \n",
    "from numpy import random\n",
    "import matplotlib.pyplot as plt\n",
    "import seaborn as sns\n",
    "\n",
    "sns.distplot(random.normal(loc=50, scale=5, size=1000), hist=False, label='normal')\n",
    "sns.distplot(random.binomial(n=100, p=0.5, size=1000), hist=False, label='binomial')\n",
    "\n",
    "plt.show() "
   ]
  },
  {
   "cell_type": "markdown",
   "metadata": {},
   "source": [
    "## Poisson Distribution"
   ]
  },
  {
   "cell_type": "code",
   "execution_count": 42,
   "metadata": {},
   "outputs": [
    {
     "name": "stdout",
     "output_type": "stream",
     "text": [
      "[1 5 1 3 3 6 1 2 3 3]\n"
     ]
    }
   ],
   "source": [
    "# Poisson Distribution:\n",
    "\n",
    "# Poisson Distribution is a Discrete Distribution.\n",
    "\n",
    "# It estimates how many times an event can happen in a specified time. e.g. If someone eats \n",
    "# twice a day what is probability he will eat thrice?\n",
    "\n",
    "# It has two parameters:\n",
    "\n",
    "# lam - rate or known number of occurences e.g. 2 for above problem.\n",
    "\n",
    "# size - The shape of the returned array.\n",
    "# Example:\n",
    "\n",
    "# Generate a random 1x10 distribution for occurence 2:\n",
    "    \n",
    "from numpy import random\n",
    "\n",
    "x = random.poisson(lam=2, size=10)\n",
    "\n",
    "print(x) "
   ]
  },
  {
   "cell_type": "code",
   "execution_count": 43,
   "metadata": {},
   "outputs": [
    {
     "data": {
      "image/png": "[encoded data removed]",
      "text/plain": [
       "<Figure size 432x288 with 1 Axes>"
      ]
     },
     "metadata": {
      "needs_background": "light"
     },
     "output_type": "display_data"
    }
   ],
   "source": [
    "# Visualization of Poisson Distribution\n",
    "# Example:\n",
    "    \n",
    "from numpy import random\n",
    "import matplotlib.pyplot as plt\n",
    "import seaborn as sns\n",
    "\n",
    "sns.distplot(random.poisson(lam=2, size=1000), kde=False)\n",
    "\n",
    "plt.show() "
   ]
  },
  {
   "cell_type": "code",
   "execution_count": 44,
   "metadata": {},
   "outputs": [
    {
     "data": {
      "image/png": "[encoded data removed]",
      "text/plain": [
       "<Figure size 432x288 with 1 Axes>"
      ]
     },
     "metadata": {
      "needs_background": "light"
     },
     "output_type": "display_data"
    }
   ],
   "source": [
    "# Difference Between Normal and Poisson Distribution\n",
    "\n",
    "# Normal distribution is continous whereas poisson is discrete.\n",
    "\n",
    "# But we can see that similar to binomial for a large enough poisson distribution \n",
    "# it will become similar to normal distribution with certain std dev and mean.\n",
    "# Example:\n",
    "    \n",
    "from numpy import random\n",
    "import matplotlib.pyplot as plt\n",
    "import seaborn as sns\n",
    "\n",
    "sns.distplot(random.normal(loc=50, scale=7, size=1000), hist=False, label='normal')\n",
    "sns.distplot(random.poisson(lam=50, size=1000), hist=False, label='poisson')\n",
    "\n",
    "plt.show() "
   ]
  },
  {
   "cell_type": "code",
   "execution_count": 45,
   "metadata": {},
   "outputs": [
    {
     "data": {
      "image/png": "[encoded data removed]",
      "text/plain": [
       "<Figure size 432x288 with 1 Axes>"
      ]
     },
     "metadata": {
      "needs_background": "light"
     },
     "output_type": "display_data"
    }
   ],
   "source": [
    "# Difference Between Poisson and Binomial Distribution\n",
    "\n",
    "# The difference is very subtle it is that, binomial distribution is for discrete trials, whereas poisson distribution is for continuous trials.\n",
    "\n",
    "# But for very large n and near-zero p binomial distribution is near identical to poisson distribution such that n * p is nearly equal to lam.\n",
    "# Example:\n",
    "    \n",
    "from numpy import random\n",
    "import matplotlib.pyplot as plt\n",
    "import seaborn as sns\n",
    "\n",
    "sns.distplot(random.binomial(n=1000, p=0.01, size=1000), hist=False, label='binomial')\n",
    "sns.distplot(random.poisson(lam=10, size=1000), hist=False, label='poisson')\n",
    "\n",
    "plt.show() "
   ]
  },
  {
   "cell_type": "markdown",
   "metadata": {},
   "source": [
    "## Uniform Distribution"
   ]
  },
  {
   "cell_type": "code",
   "execution_count": 46,
   "metadata": {},
   "outputs": [
    {
     "name": "stdout",
     "output_type": "stream",
     "text": [
      "[[0.95604753 0.12912588 0.57789214]\n",
      " [0.00220555 0.36710172 0.40998853]]\n"
     ]
    }
   ],
   "source": [
    "# Uniform Distribution\n",
    "\n",
    "# Used to describe probability where every event has equal chances of occuring.\n",
    "\n",
    "# E.g. Generation of random numbers.\n",
    "\n",
    "# It has three parameters:\n",
    "\n",
    "# a - lower bound - default 0 .0.\n",
    "\n",
    "# b - upper bound - default 1.0.\n",
    "\n",
    "# size - The shape of the returned array.\n",
    "# Example\n",
    "\n",
    "# Create a 2x3 uniform distribution sample:\n",
    "\n",
    "from numpy import random\n",
    "\n",
    "x = random.uniform(size=(2, 3))\n",
    "\n",
    "print(x) "
   ]
  },
  {
   "cell_type": "code",
   "execution_count": 47,
   "metadata": {},
   "outputs": [
    {
     "data": {
      "image/png": "[encoded data removed]",
      "text/plain": [
       "<Figure size 432x288 with 1 Axes>"
      ]
     },
     "metadata": {
      "needs_background": "light"
     },
     "output_type": "display_data"
    }
   ],
   "source": [
    "# Visualization of Uniform Distribution\n",
    "# Example:\n",
    "    \n",
    "from numpy import random\n",
    "import matplotlib.pyplot as plt\n",
    "import seaborn as sns\n",
    "\n",
    "sns.distplot(random.uniform(size=1000), hist=False)\n",
    "\n",
    "plt.show() "
   ]
  },
  {
   "cell_type": "markdown",
   "metadata": {},
   "source": [
    "## Logistic Distribution:"
   ]
  },
  {
   "cell_type": "code",
   "execution_count": 48,
   "metadata": {},
   "outputs": [
    {
     "name": "stdout",
     "output_type": "stream",
     "text": [
      "[[-1.437822    2.4144612   7.23830128]\n",
      " [-1.81046273  0.80772806 -6.35352814]]\n"
     ]
    }
   ],
   "source": [
    "# Logistic Distribution\n",
    "\n",
    "# Logistic Distribution is used to describe growth.\n",
    "\n",
    "# Used extensively in machine learning in logistic regression, neural networks etc.\n",
    "\n",
    "# It has three parameters:\n",
    "\n",
    "# loc - mean, where the peak is. Default 0.\n",
    "\n",
    "# scale - standard deviation, the flatness of distribution. Default 1.\n",
    "\n",
    "# size - The shape of the returned array.\n",
    "# Example\n",
    "\n",
    "# Draw 2x3 samples from a logistic distribution with mean at 1 and stddev 2.0:\n",
    "\n",
    "from numpy import random\n",
    "\n",
    "x = random.logistic(loc=1, scale=2, size=(2, 3))\n",
    "\n",
    "print(x) "
   ]
  },
  {
   "cell_type": "code",
   "execution_count": 49,
   "metadata": {},
   "outputs": [
    {
     "data": {
      "image/png": "[encoded data removed]",
      "text/plain": [
       "<Figure size 432x288 with 1 Axes>"
      ]
     },
     "metadata": {
      "needs_background": "light"
     },
     "output_type": "display_data"
    }
   ],
   "source": [
    "# Visualization of Logistic Distribution\n",
    "# Example:\n",
    "    \n",
    "from numpy import random\n",
    "import matplotlib.pyplot as plt\n",
    "import seaborn as sns\n",
    "\n",
    "sns.distplot(random.logistic(size=1000), hist=False)\n",
    "\n",
    "plt.show() "
   ]
  },
  {
   "cell_type": "markdown",
   "metadata": {},
   "source": [
    "## Multinomial Distribution:"
   ]
  },
  {
   "cell_type": "code",
   "execution_count": 52,
   "metadata": {},
   "outputs": [
    {
     "name": "stdout",
     "output_type": "stream",
     "text": [
      "[1 0 1 2 1 1]\n"
     ]
    }
   ],
   "source": [
    "# Multinomial Distribution\n",
    "\n",
    "# Multinomial distribution is a generalization of binomial distribution.\n",
    "\n",
    "# It describes outcomes of multi-nomial scenarios unlike binomial where scenarios must \n",
    "# be only one of two. e.g. Blood type of a population, dice roll outcome.\n",
    "\n",
    "# It has three parameters:\n",
    "\n",
    "# n - number of possible outcomes (e.g. 6 for dice roll).\n",
    "\n",
    "# pvals - list of probabilties of outcomes (e.g. [1/6, 1/6, 1/6, 1/6, 1/6, 1/6] for dice roll).\n",
    "\n",
    "# size - The shape of the returned array.\n",
    "# Example\n",
    "\n",
    "# Draw out a sample for dice roll:\n",
    "    \n",
    "from numpy import random\n",
    "\n",
    "x = random.multinomial(n=6, pvals=[1/6, 1/6, 1/6, 1/6, 1/6, 1/6])\n",
    "\n",
    "print(x) "
   ]
  },
  {
   "cell_type": "code",
   "execution_count": 53,
   "metadata": {},
   "outputs": [],
   "source": [
    "Multinomial Distribution visual representation :\n",
    "# Note: Multinomial samples will NOT produce a single value! They will produce one value \n",
    "# for each pval.\n",
    "\n",
    "# Note: As they are generalization of binomial distribution their visual representation \n",
    "# and similarity of normal distribution is same as that of multiple binomial distributions.\n"
   ]
  },
  {
   "cell_type": "code",
   "execution_count": 57,
   "metadata": {},
   "outputs": [
    {
     "data": {
      "image/png": "[encoded data removed]",
      "text/plain": [
       "<Figure size 432x288 with 1 Axes>"
      ]
     },
     "metadata": {
      "needs_background": "light"
     },
     "output_type": "display_data"
    }
   ],
   "source": [
    "# Multinomial Distribution visual representation :\n",
    "\n",
    "from numpy import random\n",
    "import matplotlib.pyplot as plt\n",
    "import seaborn as sns\n",
    "\n",
    "sns.distplot(random.multinomial(n=6, pvals=[1/6, 1/6, 1/6, 1/6, 1/6, 1/6]), hist=True, kde=False)\n",
    "\n",
    "plt.show() "
   ]
  },
  {
   "cell_type": "markdown",
   "metadata": {},
   "source": [
    "## Exponential Distribution:"
   ]
  },
  {
   "cell_type": "code",
   "execution_count": 58,
   "metadata": {},
   "outputs": [
    {
     "name": "stdout",
     "output_type": "stream",
     "text": [
      "[[0.49487793 1.42681499 9.2395924 ]\n",
      " [0.5520957  1.15697959 1.06690044]]\n"
     ]
    }
   ],
   "source": [
    "# Exponential Distribution\n",
    "\n",
    "# Exponential distribution is used for describing time till next event e.g. failure/success etc.\n",
    "\n",
    "# It has two parameters:\n",
    "\n",
    "# scale - inverse of rate ( see lam in poisson distribution ) defaults to 1.0.\n",
    "\n",
    "# size - The shape of the returned array.\n",
    "# Example\n",
    "\n",
    "# Draw out a sample for exponential distribution with 2.0 scale with 2x3 size:\n",
    "\n",
    "from numpy import random\n",
    "\n",
    "x = random.exponential(scale=2, size=(2, 3))\n",
    "\n",
    "print(x) "
   ]
  },
  {
   "cell_type": "code",
   "execution_count": 59,
   "metadata": {},
   "outputs": [
    {
     "data": {
      "image/png": "[encoded data removed]",
      "text/plain": [
       "<Figure size 432x288 with 1 Axes>"
      ]
     },
     "metadata": {
      "needs_background": "light"
     },
     "output_type": "display_data"
    }
   ],
   "source": [
    "# Visualization of Exponential Distribution\n",
    "# Example:\n",
    "    \n",
    "from numpy import random\n",
    "import matplotlib.pyplot as plt\n",
    "import seaborn as sns\n",
    "\n",
    "sns.distplot(random.exponential(size=1000), hist=False)\n",
    "\n",
    "plt.show() "
   ]
  },
  {
   "cell_type": "code",
   "execution_count": 60,
   "metadata": {},
   "outputs": [],
   "source": [
    "# Relation Between Poisson and Exponential Distribution\n",
    "\n",
    "# Poisson distribution deals with number of occurences of an event in a time period \n",
    "# whereas exponential distribution deals with the time between these events. "
   ]
  },
  {
   "cell_type": "markdown",
   "metadata": {},
   "source": [
    "## Chi Square Distribution:"
   ]
  },
  {
   "cell_type": "code",
   "execution_count": 61,
   "metadata": {},
   "outputs": [
    {
     "name": "stdout",
     "output_type": "stream",
     "text": [
      "[[0.16342711 3.05724878 1.86438864]\n",
      " [4.04981897 8.51458514 0.90520935]]\n"
     ]
    }
   ],
   "source": [
    "# Chi Square Distribution\n",
    "\n",
    "# Chi Square distribution is used as a basis to verify the hypothesis.\n",
    "\n",
    "# It has two parameters:\n",
    "\n",
    "# df - (degree of freedom).\n",
    "\n",
    "# size - The shape of the returned array.\n",
    "# Example\n",
    "\n",
    "# Draw out a sample for chi squared distribution with degree of freedom 2 with size 2x3:\n",
    "    \n",
    "from numpy import random\n",
    "\n",
    "x = random.chisquare(df=2, size=(2, 3))\n",
    "\n",
    "print(x) "
   ]
  },
  {
   "cell_type": "code",
   "execution_count": 64,
   "metadata": {},
   "outputs": [
    {
     "data": {
      "image/png": "[encoded data removed]",
      "text/plain": [
       "<Figure size 432x288 with 1 Axes>"
      ]
     },
     "metadata": {
      "needs_background": "light"
     },
     "output_type": "display_data"
    }
   ],
   "source": [
    "# Visualization of Chi Square Distribution\n",
    "# Example:\n",
    "    \n",
    "from numpy import random\n",
    "import matplotlib.pyplot as plt\n",
    "import seaborn as sns\n",
    "\n",
    "sns.distplot(random.chisquare(df=1, size=1000), hist=False)\n",
    "\n",
    "plt.show() "
   ]
  },
  {
   "cell_type": "markdown",
   "metadata": {},
   "source": [
    "## Rayleigh Distribution:"
   ]
  },
  {
   "cell_type": "code",
   "execution_count": 65,
   "metadata": {},
   "outputs": [
    {
     "name": "stdout",
     "output_type": "stream",
     "text": [
      "[[2.91128457 2.7579466  1.54737701]\n",
      " [1.08249162 3.92105033 1.73520216]]\n"
     ]
    }
   ],
   "source": [
    "# Rayleigh Distribution\n",
    "\n",
    "# Rayleigh distribution is used in signal processing.\n",
    "\n",
    "# It has two parameters:\n",
    "\n",
    "# scale - (standard deviation) decides how flat the distribution will be default 1.0).\n",
    "\n",
    "# size - The shape of the returned array.\n",
    "# Example\n",
    "\n",
    "# Draw out a sample for rayleigh distribution with scale of 2 with size 2x3:\n",
    "\n",
    "from numpy import random\n",
    "\n",
    "x = random.rayleigh(scale=2, size=(2, 3))\n",
    "\n",
    "print(x) "
   ]
  },
  {
   "cell_type": "code",
   "execution_count": 66,
   "metadata": {},
   "outputs": [
    {
     "data": {
      "image/png": "[encoded data removed]",
      "text/plain": [
       "<Figure size 432x288 with 1 Axes>"
      ]
     },
     "metadata": {
      "needs_background": "light"
     },
     "output_type": "display_data"
    }
   ],
   "source": [
    "# Visualization of Rayleigh Distribution\n",
    "# Example:\n",
    "    \n",
    "from numpy import random\n",
    "import matplotlib.pyplot as plt\n",
    "import seaborn as sns\n",
    "\n",
    "sns.distplot(random.rayleigh(size=1000), hist=False)\n",
    "\n",
    "plt.show() "
   ]
  },
  {
   "cell_type": "markdown",
   "metadata": {},
   "source": [
    "## Pareto Distribution:"
   ]
  },
  {
   "cell_type": "code",
   "execution_count": 68,
   "metadata": {},
   "outputs": [
    {
     "name": "stdout",
     "output_type": "stream",
     "text": [
      "[[4.05435275e+00 1.23058462e-03 1.90223495e-02]\n",
      " [1.52338627e-01 1.26439213e+00 1.26624391e+01]]\n"
     ]
    }
   ],
   "source": [
    "# Pareto Distribution\n",
    "\n",
    "# A distribution following Pareto's law i.e. 80-20 distribution (20% factors cause 80% outcome).\n",
    "\n",
    "# It has two parameter:\n",
    "\n",
    "# a - shape parameter.\n",
    "\n",
    "# size - The shape of the returned array.\n",
    "# Example\n",
    "\n",
    "# Draw out a sample for pareto distribution with shape of 2 with size 2x3:\n",
    "\n",
    "from numpy import random\n",
    "\n",
    "x = random.pareto(a=2, size=(2, 3))\n",
    "\n",
    "print(x) "
   ]
  },
  {
   "cell_type": "code",
   "execution_count": 69,
   "metadata": {},
   "outputs": [
    {
     "data": {
      "image/png": "[encoded data removed]",
      "text/plain": [
       "<Figure size 432x288 with 1 Axes>"
      ]
     },
     "metadata": {
      "needs_background": "light"
     },
     "output_type": "display_data"
    }
   ],
   "source": [
    "# Visualization of Pareto Distribution\n",
    "# Example:\n",
    "    \n",
    "from numpy import random\n",
    "import matplotlib.pyplot as plt\n",
    "import seaborn as sns\n",
    "\n",
    "sns.distplot(random.pareto(a=2, size=1000), kde=False)\n",
    "\n",
    "plt.show() "
   ]
  },
  {
   "cell_type": "markdown",
   "metadata": {},
   "source": [
    "## Zipf Distribution:"
   ]
  },
  {
   "cell_type": "code",
   "execution_count": 70,
   "metadata": {},
   "outputs": [
    {
     "name": "stdout",
     "output_type": "stream",
     "text": [
      "[[1 1 3]\n",
      " [1 1 1]]\n"
     ]
    }
   ],
   "source": [
    "# Zipf distritutions are used to sample data based on zipf's law.\n",
    "\n",
    "# Zipf's Law: In a collection the nth common term is 1/n times of the most common term. E.g. 5th common word in english has occurs nearly 1/5th times as of the most used word.\n",
    "\n",
    "# It has two parameters:\n",
    "\n",
    "# a - distribution parameter.\n",
    "\n",
    "# size - The shape of the returned array.\n",
    "# Example\n",
    "\n",
    "# Draw out a sample for zipf distribution with distribution parameter 2 with size 2x3:\n",
    "\n",
    "from numpy import random\n",
    "\n",
    "x = random.zipf(a=2, size=(2, 3))\n",
    "\n",
    "print(x) "
   ]
  },
  {
   "cell_type": "code",
   "execution_count": 71,
   "metadata": {},
   "outputs": [
    {
     "data": {
      "image/png": "[encoded data removed]",
      "text/plain": [
       "<Figure size 432x288 with 1 Axes>"
      ]
     },
     "metadata": {
      "needs_background": "light"
     },
     "output_type": "display_data"
    }
   ],
   "source": [
    "# Visualization of Zipf Distribution\n",
    "\n",
    "# Sample 1000 points but plotting only ones with value < 10 for more meaningful chart.\n",
    "# Example:\n",
    "    \n",
    "from numpy import random\n",
    "import matplotlib.pyplot as plt\n",
    "import seaborn as sns\n",
    "\n",
    "x = random.zipf(a=2, size=1000)\n",
    "sns.distplot(x[x<10], kde=False)\n",
    "\n",
    "plt.show() "
   ]
  },
  {
   "cell_type": "code",
   "execution_count": null,
   "metadata": {},
   "outputs": [],
   "source": []
  }
 ],
 "metadata": {
  "kernelspec": {
   "display_name": "Python 3",
   "language": "python",
   "name": "python3"
  },
  "language_info": {
   "codemirror_mode": {
    "name": "ipython",
    "version": 3
   },
   "file_extension": ".py",
   "mimetype": "text/x-python",
   "name": "python",
   "nbconvert_exporter": "python",
   "pygments_lexer": "ipython3",
   "version": "3.7.6"
  }
 },
 "nbformat": 4,
 "nbformat_minor": 4
}
